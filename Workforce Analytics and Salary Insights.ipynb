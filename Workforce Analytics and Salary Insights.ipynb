{
 "cells": [
  {
   "cell_type": "code",
   "execution_count": 1,
   "id": "59875d86-0b84-48ee-a923-edde6e41e0e6",
   "metadata": {},
   "outputs": [],
   "source": [
    "import pandas as pd\n",
    "import matplotlib.pyplot as mt"
   ]
  },
  {
   "cell_type": "code",
   "execution_count": 2,
   "id": "882738b0-5dcd-44f5-a24c-b03e36ef8dbc",
   "metadata": {},
   "outputs": [],
   "source": [
    "df = pd.read_csv('/home/atharva/NSTI/CSV_Files/employees.csv')"
   ]
  },
  {
   "cell_type": "code",
   "execution_count": 3,
   "id": "cf67161b-554c-40d0-b2af-b142040e8b4b",
   "metadata": {},
   "outputs": [
    {
     "data": {
      "text/html": [
       "<div>\n",
       "<style scoped>\n",
       "    .dataframe tbody tr th:only-of-type {\n",
       "        vertical-align: middle;\n",
       "    }\n",
       "\n",
       "    .dataframe tbody tr th {\n",
       "        vertical-align: top;\n",
       "    }\n",
       "\n",
       "    .dataframe thead th {\n",
       "        text-align: right;\n",
       "    }\n",
       "</style>\n",
       "<table border=\"1\" class=\"dataframe\">\n",
       "  <thead>\n",
       "    <tr style=\"text-align: right;\">\n",
       "      <th></th>\n",
       "      <th>EMPLOYEE_ID</th>\n",
       "      <th>FIRST_NAME</th>\n",
       "      <th>LAST_NAME</th>\n",
       "      <th>EMAIL</th>\n",
       "      <th>PHONE_NUMBER</th>\n",
       "      <th>HIRE_DATE</th>\n",
       "      <th>JOB_ID</th>\n",
       "      <th>SALARY</th>\n",
       "      <th>COMMISSION_PCT</th>\n",
       "      <th>MANAGER_ID</th>\n",
       "      <th>DEPARTMENT_ID</th>\n",
       "    </tr>\n",
       "  </thead>\n",
       "  <tbody>\n",
       "    <tr>\n",
       "      <th>0</th>\n",
       "      <td>198</td>\n",
       "      <td>Donald</td>\n",
       "      <td>OConnell</td>\n",
       "      <td>DOCONNEL</td>\n",
       "      <td>650.507.9833</td>\n",
       "      <td>21-JUN-07</td>\n",
       "      <td>SH_CLERK</td>\n",
       "      <td>2600</td>\n",
       "      <td>-</td>\n",
       "      <td>124</td>\n",
       "      <td>50</td>\n",
       "    </tr>\n",
       "    <tr>\n",
       "      <th>1</th>\n",
       "      <td>199</td>\n",
       "      <td>Douglas</td>\n",
       "      <td>Grant</td>\n",
       "      <td>DGRANT</td>\n",
       "      <td>650.507.9844</td>\n",
       "      <td>13-JAN-08</td>\n",
       "      <td>SH_CLERK</td>\n",
       "      <td>2600</td>\n",
       "      <td>-</td>\n",
       "      <td>124</td>\n",
       "      <td>50</td>\n",
       "    </tr>\n",
       "    <tr>\n",
       "      <th>2</th>\n",
       "      <td>200</td>\n",
       "      <td>Jennifer</td>\n",
       "      <td>Whalen</td>\n",
       "      <td>JWHALEN</td>\n",
       "      <td>515.123.4444</td>\n",
       "      <td>17-SEP-03</td>\n",
       "      <td>AD_ASST</td>\n",
       "      <td>4400</td>\n",
       "      <td>-</td>\n",
       "      <td>101</td>\n",
       "      <td>10</td>\n",
       "    </tr>\n",
       "    <tr>\n",
       "      <th>3</th>\n",
       "      <td>201</td>\n",
       "      <td>Michael</td>\n",
       "      <td>Hartstein</td>\n",
       "      <td>MHARTSTE</td>\n",
       "      <td>515.123.5555</td>\n",
       "      <td>17-FEB-04</td>\n",
       "      <td>MK_MAN</td>\n",
       "      <td>13000</td>\n",
       "      <td>-</td>\n",
       "      <td>100</td>\n",
       "      <td>20</td>\n",
       "    </tr>\n",
       "    <tr>\n",
       "      <th>4</th>\n",
       "      <td>202</td>\n",
       "      <td>Pat</td>\n",
       "      <td>Fay</td>\n",
       "      <td>PFAY</td>\n",
       "      <td>603.123.6666</td>\n",
       "      <td>17-AUG-05</td>\n",
       "      <td>MK_REP</td>\n",
       "      <td>6000</td>\n",
       "      <td>-</td>\n",
       "      <td>201</td>\n",
       "      <td>20</td>\n",
       "    </tr>\n",
       "  </tbody>\n",
       "</table>\n",
       "</div>"
      ],
      "text/plain": [
       "   EMPLOYEE_ID FIRST_NAME  LAST_NAME     EMAIL  PHONE_NUMBER  HIRE_DATE  \\\n",
       "0          198     Donald   OConnell  DOCONNEL  650.507.9833  21-JUN-07   \n",
       "1          199    Douglas      Grant    DGRANT  650.507.9844  13-JAN-08   \n",
       "2          200   Jennifer     Whalen   JWHALEN  515.123.4444  17-SEP-03   \n",
       "3          201    Michael  Hartstein  MHARTSTE  515.123.5555  17-FEB-04   \n",
       "4          202        Pat        Fay      PFAY  603.123.6666  17-AUG-05   \n",
       "\n",
       "     JOB_ID  SALARY COMMISSION_PCT MANAGER_ID  DEPARTMENT_ID  \n",
       "0  SH_CLERK    2600             -         124             50  \n",
       "1  SH_CLERK    2600             -         124             50  \n",
       "2   AD_ASST    4400             -         101             10  \n",
       "3    MK_MAN   13000             -         100             20  \n",
       "4    MK_REP    6000             -         201             20  "
      ]
     },
     "execution_count": 3,
     "metadata": {},
     "output_type": "execute_result"
    }
   ],
   "source": [
    "df.head()"
   ]
  },
  {
   "cell_type": "code",
   "execution_count": 19,
   "id": "8858ed5d-7558-46a2-bbdf-d6858e7f794b",
   "metadata": {},
   "outputs": [
    {
     "data": {
      "text/plain": [
       "EMPLOYEE_ID       0\n",
       "FIRST_NAME        0\n",
       "LAST_NAME         0\n",
       "EMAIL             0\n",
       "PHONE_NUMBER      0\n",
       "HIRE_DATE         0\n",
       "JOB_ID            0\n",
       "SALARY            0\n",
       "COMMISSION_PCT    0\n",
       "MANAGER_ID        0\n",
       "DEPARTMENT_ID     0\n",
       "SALARY_HIKE       0\n",
       "dtype: int64"
      ]
     },
     "execution_count": 19,
     "metadata": {},
     "output_type": "execute_result"
    }
   ],
   "source": [
    "df.isnull().sum()"
   ]
  },
  {
   "cell_type": "code",
   "execution_count": 5,
   "id": "f6f86062-a807-4af9-86be-3cd98c6ea196",
   "metadata": {},
   "outputs": [],
   "source": [
    "filling = df.fillna('Unknown', inplace = True)"
   ]
  },
  {
   "cell_type": "code",
   "execution_count": 6,
   "id": "8311283f-f467-48e8-b0cf-2a0bf93949fb",
   "metadata": {},
   "outputs": [
    {
     "data": {
      "image/png": "[encoded data removed]",
      "text/plain": [
       "<Figure size 800x500 with 1 Axes>"
      ]
     },
     "metadata": {},
     "output_type": "display_data"
    }
   ],
   "source": [
    "fig, axes = mt.subplots(figsize = (8,5))\n",
    "\n",
    "axes.hist(df['HIRE_DATE'], bins = 20, color = 'red', edgecolor = 'black')\n",
    "axes.set_title('Exprience Chart')\n",
    "axes.set_xlabel(\"Hire Date\")\n",
    "mt.show()"
   ]
  },
  {
   "cell_type": "code",
   "execution_count": 7,
   "id": "d9322b18-2148-4274-8b19-45180dec0574",
   "metadata": {},
   "outputs": [
    {
     "data": {
      "image/png": "[encoded data removed]",
      "text/plain": [
       "<Figure size 640x480 with 1 Axes>"
      ]
     },
     "metadata": {},
     "output_type": "display_data"
    }
   ],
   "source": [
    "mt.scatter(df['SALARY'], df['DEPARTMENT_ID'])\n",
    "mt.xlabel('Salary')\n",
    "mt.ylabel(\"Department_ID\")\n",
    "mt.title('Scatter Plot Between Age and Salary')\n",
    "mt.show()"
   ]
  },
  {
   "cell_type": "code",
   "execution_count": 8,
   "id": "d749ee2b-b3a2-471e-9306-36e77037c45c",
   "metadata": {},
   "outputs": [
    {
     "name": "stdout",
     "output_type": "stream",
     "text": [
      "45\n"
     ]
    }
   ],
   "source": [
    "unique_name = df['FIRST_NAME'].nunique()\n",
    "print(unique_name)"
   ]
  },
  {
   "cell_type": "code",
   "execution_count": null,
   "id": "0cc96446-f059-45be-b26c-e499efd38e6c",
   "metadata": {},
   "outputs": [],
   "source": []
  },
  {
   "cell_type": "code",
   "execution_count": 9,
   "id": "62bad70e-7a1a-4473-a75e-c23a7b226a5b",
   "metadata": {},
   "outputs": [
    {
     "name": "stdout",
     "output_type": "stream",
     "text": [
      "24000\n",
      "2100\n",
      "6182.32\n"
     ]
    }
   ],
   "source": [
    "Max_Salary = df['SALARY'].max()\n",
    "print(Max_Salary)\n",
    "\n",
    "Minimum_Salary = df['SALARY'].min()\n",
    "print(Minimum_Salary)\n",
    "\n",
    "Mean_Salary = df['SALARY'].mean()\n",
    "print(Mean_Salary)"
   ]
  },
  {
   "cell_type": "code",
   "execution_count": 10,
   "id": "15a6120a-9a90-4a6e-a437-020a4ddfbd84",
   "metadata": {},
   "outputs": [
    {
     "name": "stdout",
     "output_type": "stream",
     "text": [
      "    EMPLOYEE_ID   FIRST_NAME    LAST_NAME     EMAIL  PHONE_NUMBER  HIRE_DATE  \\\n",
      "8           206      William        Gietz    WGIETZ  515.123.8181  07-JUN-02   \n",
      "7           205      Shelley      Higgins  SHIGGINS  515.123.8080  07-JUN-02   \n",
      "6           204      Hermann         Baer     HBAER  515.123.8888  07-JUN-02   \n",
      "5           203        Susan       Mavris   SMAVRIS  515.123.7777  07-JUN-02   \n",
      "4           202          Pat          Fay      PFAY  603.123.6666  17-AUG-05   \n",
      "3           201      Michael    Hartstein  MHARTSTE  515.123.5555  17-FEB-04   \n",
      "2           200     Jennifer       Whalen   JWHALEN  515.123.4444  17-SEP-03   \n",
      "1           199      Douglas        Grant    DGRANT  650.507.9844  13-JAN-08   \n",
      "0           198       Donald     OConnell  DOCONNEL  650.507.9833  21-JUN-07   \n",
      "49          140       Joshua        Patel    JPATEL  650.121.1834  06-APR-06   \n",
      "48          139         John          Seo      JSEO  650.121.2019  12-FEB-06   \n",
      "47          138      Stephen       Stiles   SSTILES  650.121.2034  26-OCT-05   \n",
      "46          137       Renske       Ladwig   RLADWIG  650.121.1234  14-JUL-03   \n",
      "45          136        Hazel   Philtanker  HPHILTAN  650.127.1634  06-FEB-08   \n",
      "44          135           Ki          Gee      KGEE  650.127.1734  12-DEC-07   \n",
      "43          134      Michael       Rogers   MROGERS  650.127.1834  26-AUG-06   \n",
      "42          133        Jason       Mallin   JMALLIN  650.127.1934  14-JUN-04   \n",
      "41          132           TJ        Olson   TJOLSON  650.124.8234  10-APR-07   \n",
      "40          131        James       Marlow   JAMRLOW  650.124.7234  16-FEB-05   \n",
      "39          130        Mozhe     Atkinson  MATKINSO  650.124.6234  30-OCT-05   \n",
      "38          129        Laura       Bissot   LBISSOT  650.124.5234  20-AUG-05   \n",
      "37          128       Steven       Markle   SMARKLE  650.124.1434  08-MAR-08   \n",
      "36          127        James       Landry   JLANDRY  650.124.1334  14-JAN-07   \n",
      "35          126        Irene  Mikkilineni  IMIKKILI  650.124.1224  28-SEP-06   \n",
      "34          125        Julia        Nayer    JNAYER  650.124.1214  16-JUL-05   \n",
      "33          124        Kevin      Mourgos  KMOURGOS  650.123.5234  16-NOV-07   \n",
      "32          123       Shanta      Vollman  SVOLLMAN  650.123.4234  10-OCT-05   \n",
      "31          122        Payam     Kaufling  PKAUFLIN  650.123.3234  01-MAY-03   \n",
      "30          121         Adam        Fripp    AFRIPP  650.123.2234  10-APR-05   \n",
      "29          120      Matthew        Weiss    MWEISS  650.123.1234  18-JUL-04   \n",
      "28          119        Karen   Colmenares  KCOLMENA  515.127.4566  10-AUG-07   \n",
      "27          118          Guy       Himuro   GHIMURO  515.127.4565  15-NOV-06   \n",
      "26          117        Sigal       Tobias   STOBIAS  515.127.4564  24-JUL-05   \n",
      "25          116       Shelli        Baida    SBAIDA  515.127.4563  24-DEC-05   \n",
      "24          115    Alexander         Khoo     AKHOO  515.127.4562  18-MAY-03   \n",
      "23          114          Den     Raphaely  DRAPHEAL  515.127.4561  07-DEC-02   \n",
      "22          113         Luis         Popp     LPOPP  515.124.4567  07-DEC-07   \n",
      "21          112  Jose Manuel        Urman   JMURMAN  515.124.4469  07-MAR-06   \n",
      "20          111       Ismael      Sciarra  ISCIARRA  515.124.4369  30-SEP-05   \n",
      "19          110         John         Chen     JCHEN  515.124.4269  28-SEP-05   \n",
      "18          109       Daniel       Faviet   DFAVIET  515.124.4169  16-AUG-02   \n",
      "17          108        Nancy    Greenberg  NGREENBE  515.124.4569  17-AUG-02   \n",
      "16          107        Diana      Lorentz  DLORENTZ  590.423.5567  07-FEB-07   \n",
      "15          106        Valli    Pataballa  VPATABAL  590.423.4560  05-FEB-06   \n",
      "14          105        David       Austin   DAUSTIN  590.423.4569  25-JUN-05   \n",
      "13          104        Bruce        Ernst    BERNST  590.423.4568  21-MAY-07   \n",
      "12          103    Alexander       Hunold   AHUNOLD  590.423.4567  03-JAN-06   \n",
      "11          102          Lex      De Haan   LDEHAAN  515.123.4569  13-JAN-01   \n",
      "10          101        Neena      Kochhar  NKOCHHAR  515.123.4568  21-SEP-05   \n",
      "9           100       Steven         King     SKING  515.123.4567  17-JUN-03   \n",
      "\n",
      "        JOB_ID  SALARY COMMISSION_PCT MANAGER_ID  DEPARTMENT_ID  \n",
      "8   AC_ACCOUNT    8300             -         205            110  \n",
      "7       AC_MGR   12008             -         101            110  \n",
      "6       PR_REP   10000             -         101             70  \n",
      "5       HR_REP    6500             -         101             40  \n",
      "4       MK_REP    6000             -         201             20  \n",
      "3       MK_MAN   13000             -         100             20  \n",
      "2      AD_ASST    4400             -         101             10  \n",
      "1     SH_CLERK    2600             -         124             50  \n",
      "0     SH_CLERK    2600             -         124             50  \n",
      "49    ST_CLERK    2500             -         123             50  \n",
      "48    ST_CLERK    2700             -         123             50  \n",
      "47    ST_CLERK    3200             -         123             50  \n",
      "46    ST_CLERK    3600             -         123             50  \n",
      "45    ST_CLERK    2200             -         122             50  \n",
      "44    ST_CLERK    2400             -         122             50  \n",
      "43    ST_CLERK    2900             -         122             50  \n",
      "42    ST_CLERK    3300             -         122             50  \n",
      "41    ST_CLERK    2100             -         121             50  \n",
      "40    ST_CLERK    2500             -         121             50  \n",
      "39    ST_CLERK    2800             -         121             50  \n",
      "38    ST_CLERK    3300             -         121             50  \n",
      "37    ST_CLERK    2200             -         120             50  \n",
      "36    ST_CLERK    2400             -         120             50  \n",
      "35    ST_CLERK    2700             -         120             50  \n",
      "34    ST_CLERK    3200             -         120             50  \n",
      "33      ST_MAN    5800             -         100             50  \n",
      "32      ST_MAN    6500             -         100             50  \n",
      "31      ST_MAN    7900             -         100             50  \n",
      "30      ST_MAN    8200             -         100             50  \n",
      "29      ST_MAN    8000             -         100             50  \n",
      "28    PU_CLERK    2500             -         114             30  \n",
      "27    PU_CLERK    2600             -         114             30  \n",
      "26    PU_CLERK    2800             -         114             30  \n",
      "25    PU_CLERK    2900             -         114             30  \n",
      "24    PU_CLERK    3100             -         114             30  \n",
      "23      PU_MAN   11000             -         100             30  \n",
      "22  FI_ACCOUNT    6900             -         108            100  \n",
      "21  FI_ACCOUNT    7800             -         108            100  \n",
      "20  FI_ACCOUNT    7700             -         108            100  \n",
      "19  FI_ACCOUNT    8200             -         108            100  \n",
      "18  FI_ACCOUNT    9000             -         108            100  \n",
      "17      FI_MGR   12008             -         101            100  \n",
      "16     IT_PROG    4200             -         103             60  \n",
      "15     IT_PROG    4800             -         103             60  \n",
      "14     IT_PROG    4800             -         103             60  \n",
      "13     IT_PROG    6000             -         103             60  \n",
      "12     IT_PROG    9000             -         102             60  \n",
      "11       AD_VP   17000             -         100             90  \n",
      "10       AD_VP   17000             -         100             90  \n",
      "9      AD_PRES   24000             -          -              90  \n"
     ]
    }
   ],
   "source": [
    "Descending = df.sort_values(by =  'EMPLOYEE_ID', ascending = False)\n",
    "print(Descending)"
   ]
  },
  {
   "cell_type": "code",
   "execution_count": 11,
   "id": "e6c94f9d-9c47-4bfc-a30f-7064e7877b14",
   "metadata": {},
   "outputs": [
    {
     "name": "stdout",
     "output_type": "stream",
     "text": [
      "HIRE_DATE\n",
      "01-MAY-03     7900.0\n",
      "03-JAN-06     9000.0\n",
      "05-FEB-06     4800.0\n",
      "06-APR-06     2500.0\n",
      "06-FEB-08     2200.0\n",
      "07-DEC-02    11000.0\n",
      "07-DEC-07     6900.0\n",
      "07-FEB-07     4200.0\n",
      "07-JUN-02     9202.0\n",
      "07-MAR-06     7800.0\n",
      "08-MAR-08     2200.0\n",
      "10-APR-05     8200.0\n",
      "10-APR-07     2100.0\n",
      "10-AUG-07     2500.0\n",
      "10-OCT-05     6500.0\n",
      "12-DEC-07     2400.0\n",
      "12-FEB-06     2700.0\n",
      "13-JAN-01    17000.0\n",
      "13-JAN-08     2600.0\n",
      "14-JAN-07     2400.0\n",
      "14-JUL-03     3600.0\n",
      "14-JUN-04     3300.0\n",
      "15-NOV-06     2600.0\n",
      "16-AUG-02     9000.0\n",
      "16-FEB-05     2500.0\n",
      "16-JUL-05     3200.0\n",
      "16-NOV-07     5800.0\n",
      "17-AUG-02    12008.0\n",
      "17-AUG-05     6000.0\n",
      "17-FEB-04    13000.0\n",
      "17-JUN-03    24000.0\n",
      "17-SEP-03     4400.0\n",
      "18-JUL-04     8000.0\n",
      "18-MAY-03     3100.0\n",
      "20-AUG-05     3300.0\n",
      "21-JUN-07     2600.0\n",
      "21-MAY-07     6000.0\n",
      "21-SEP-05    17000.0\n",
      "24-DEC-05     2900.0\n",
      "24-JUL-05     2800.0\n",
      "25-JUN-05     4800.0\n",
      "26-AUG-06     2900.0\n",
      "26-OCT-05     3200.0\n",
      "28-SEP-05     8200.0\n",
      "28-SEP-06     2700.0\n",
      "30-OCT-05     2800.0\n",
      "30-SEP-05     7700.0\n",
      "Name: SALARY, dtype: float64\n"
     ]
    }
   ],
   "source": [
    "group_data = df.groupby('HIRE_DATE')['SALARY'].mean()\n",
    "print(group_data)"
   ]
  },
  {
   "cell_type": "code",
   "execution_count": 12,
   "id": "c6bff723-cc74-4169-8518-7767c47b05b5",
   "metadata": {},
   "outputs": [
    {
     "name": "stdout",
     "output_type": "stream",
     "text": [
      "    EMPLOYEE_ID   FIRST_NAME  LAST_NAME     EMAIL  PHONE_NUMBER  HIRE_DATE  \\\n",
      "3           201      Michael  Hartstein  MHARTSTE  515.123.5555  17-FEB-04   \n",
      "4           202          Pat        Fay      PFAY  603.123.6666  17-AUG-05   \n",
      "5           203        Susan     Mavris   SMAVRIS  515.123.7777  07-JUN-02   \n",
      "6           204      Hermann       Baer     HBAER  515.123.8888  07-JUN-02   \n",
      "7           205      Shelley    Higgins  SHIGGINS  515.123.8080  07-JUN-02   \n",
      "8           206      William      Gietz    WGIETZ  515.123.8181  07-JUN-02   \n",
      "9           100       Steven       King     SKING  515.123.4567  17-JUN-03   \n",
      "10          101        Neena    Kochhar  NKOCHHAR  515.123.4568  21-SEP-05   \n",
      "11          102          Lex    De Haan   LDEHAAN  515.123.4569  13-JAN-01   \n",
      "12          103    Alexander     Hunold   AHUNOLD  590.423.4567  03-JAN-06   \n",
      "13          104        Bruce      Ernst    BERNST  590.423.4568  21-MAY-07   \n",
      "17          108        Nancy  Greenberg  NGREENBE  515.124.4569  17-AUG-02   \n",
      "18          109       Daniel     Faviet   DFAVIET  515.124.4169  16-AUG-02   \n",
      "19          110         John       Chen     JCHEN  515.124.4269  28-SEP-05   \n",
      "20          111       Ismael    Sciarra  ISCIARRA  515.124.4369  30-SEP-05   \n",
      "21          112  Jose Manuel      Urman   JMURMAN  515.124.4469  07-MAR-06   \n",
      "22          113         Luis       Popp     LPOPP  515.124.4567  07-DEC-07   \n",
      "23          114          Den   Raphaely  DRAPHEAL  515.127.4561  07-DEC-02   \n",
      "29          120      Matthew      Weiss    MWEISS  650.123.1234  18-JUL-04   \n",
      "30          121         Adam      Fripp    AFRIPP  650.123.2234  10-APR-05   \n",
      "31          122        Payam   Kaufling  PKAUFLIN  650.123.3234  01-MAY-03   \n",
      "32          123       Shanta    Vollman  SVOLLMAN  650.123.4234  10-OCT-05   \n",
      "33          124        Kevin    Mourgos  KMOURGOS  650.123.5234  16-NOV-07   \n",
      "\n",
      "        JOB_ID  SALARY COMMISSION_PCT MANAGER_ID  DEPARTMENT_ID  \n",
      "3       MK_MAN   13000             -         100             20  \n",
      "4       MK_REP    6000             -         201             20  \n",
      "5       HR_REP    6500             -         101             40  \n",
      "6       PR_REP   10000             -         101             70  \n",
      "7       AC_MGR   12008             -         101            110  \n",
      "8   AC_ACCOUNT    8300             -         205            110  \n",
      "9      AD_PRES   24000             -          -              90  \n",
      "10       AD_VP   17000             -         100             90  \n",
      "11       AD_VP   17000             -         100             90  \n",
      "12     IT_PROG    9000             -         102             60  \n",
      "13     IT_PROG    6000             -         103             60  \n",
      "17      FI_MGR   12008             -         101            100  \n",
      "18  FI_ACCOUNT    9000             -         108            100  \n",
      "19  FI_ACCOUNT    8200             -         108            100  \n",
      "20  FI_ACCOUNT    7700             -         108            100  \n",
      "21  FI_ACCOUNT    7800             -         108            100  \n",
      "22  FI_ACCOUNT    6900             -         108            100  \n",
      "23      PU_MAN   11000             -         100             30  \n",
      "29      ST_MAN    8000             -         100             50  \n",
      "30      ST_MAN    8200             -         100             50  \n",
      "31      ST_MAN    7900             -         100             50  \n",
      "32      ST_MAN    6500             -         100             50  \n",
      "33      ST_MAN    5800             -         100             50  \n"
     ]
    }
   ],
   "source": [
    "employee_g = df.query('SALARY > 5500')\n",
    "print(employee_g)"
   ]
  },
  {
   "cell_type": "code",
   "execution_count": 13,
   "id": "154db352-7e34-4de2-baf5-9afdee2c9260",
   "metadata": {},
   "outputs": [],
   "source": [
    "df['EMPLOYEE_ID'] = df['EMPLOYEE_ID'].astype(int)"
   ]
  },
  {
   "cell_type": "code",
   "execution_count": 14,
   "id": "58b4bdec-3f87-44fb-8e31-d17cce5afcac",
   "metadata": {},
   "outputs": [],
   "source": [
    "df['SALARY_HIKE'] = df['SALARY'] * 1.10"
   ]
  },
  {
   "cell_type": "code",
   "execution_count": 15,
   "id": "d598bbfa-81c9-49d1-ba2a-de5c363c0fe2",
   "metadata": {},
   "outputs": [
    {
     "name": "stdout",
     "output_type": "stream",
     "text": [
      "<class 'pandas.core.frame.DataFrame'>\n",
      "RangeIndex: 50 entries, 0 to 49\n",
      "Data columns (total 12 columns):\n",
      " #   Column          Non-Null Count  Dtype  \n",
      "---  ------          --------------  -----  \n",
      " 0   EMPLOYEE_ID     50 non-null     int64  \n",
      " 1   FIRST_NAME      50 non-null     object \n",
      " 2   LAST_NAME       50 non-null     object \n",
      " 3   EMAIL           50 non-null     object \n",
      " 4   PHONE_NUMBER    50 non-null     object \n",
      " 5   HIRE_DATE       50 non-null     object \n",
      " 6   JOB_ID          50 non-null     object \n",
      " 7   SALARY          50 non-null     int64  \n",
      " 8   COMMISSION_PCT  50 non-null     object \n",
      " 9   MANAGER_ID      50 non-null     object \n",
      " 10  DEPARTMENT_ID   50 non-null     int64  \n",
      " 11  SALARY_HIKE     50 non-null     float64\n",
      "dtypes: float64(1), int64(3), object(8)\n",
      "memory usage: 4.8+ KB\n"
     ]
    }
   ],
   "source": [
    "df.info()"
   ]
  },
  {
   "cell_type": "code",
   "execution_count": 16,
   "id": "f40990c4-579d-427a-bb9a-d16c13a35aac",
   "metadata": {},
   "outputs": [
    {
     "name": "stdout",
     "output_type": "stream",
     "text": [
      "DEPARTMENT_ID\n",
      "50     23\n",
      "100     6\n",
      "30      6\n",
      "60      5\n",
      "90      3\n",
      "110     2\n",
      "20      2\n",
      "10      1\n",
      "70      1\n",
      "40      1\n",
      "Name: count, dtype: int64\n"
     ]
    }
   ],
   "source": [
    "occurence = df['DEPARTMENT_ID'].value_counts()\n",
    "print(occurence)"
   ]
  },
  {
   "cell_type": "code",
   "execution_count": 17,
   "id": "514a96e9-8b83-47a7-9286-5f2d69680683",
   "metadata": {},
   "outputs": [],
   "source": [
    "csv_file = df.to_csv('New_Employee.csv')"
   ]
  },
  {
   "cell_type": "code",
   "execution_count": 20,
   "id": "a1e70847-1680-4d62-831c-7f1c4b528f9a",
   "metadata": {},
   "outputs": [
    {
     "data": {
      "text/plain": [
       "Text(0.5, 1.0, 'Employee Name And SAlary')"
      ]
     },
     "execution_count": 20,
     "metadata": {},
     "output_type": "execute_result"
    },
    {
     "data": {
      "text/plain": [
       "<Figure size 800x600 with 0 Axes>"
      ]
     },
     "metadata": {},
     "output_type": "display_data"
    },
    {
     "data": {
      "image/png": "[encoded data removed]",
      "text/plain": [
       "<Figure size 640x480 with 1 Axes>"
      ]
     },
     "metadata": {},
     "output_type": "display_data"
    }
   ],
   "source": [
    "mt.figure(figsize = (8,6))\n",
    "df.plot(kind = 'bar', color = ['green', 'yellow'])\n",
    "mt.xlabel('Employee Name')\n",
    "mt.ylabel(\"Employee Salary\")\n",
    "mt.title('Employee Name And SAlary')\n"
   ]
  },
  {
   "cell_type": "code",
   "execution_count": 21,
   "id": "167da341-9b26-4344-b706-bc77d7172cb3",
   "metadata": {},
   "outputs": [],
   "source": [
    "df_1 = df.groupby('FIRST_NAME')['SALARY'].sum()"
   ]
  },
  {
   "cell_type": "code",
   "execution_count": 22,
   "id": "f56195f0-556b-4af2-b193-ce99dd1e4de0",
   "metadata": {},
   "outputs": [
    {
     "name": "stdout",
     "output_type": "stream",
     "text": [
      "4600.0\n"
     ]
    }
   ],
   "source": [
    "df_median = df['SALARY'].median()\n",
    "print(df_median)"
   ]
  },
  {
   "cell_type": "code",
   "execution_count": 23,
   "id": "efd0cc05-a567-4b02-9701-4cfad1239f95",
   "metadata": {},
   "outputs": [
    {
     "data": {
      "text/plain": [
       "0     False\n",
       "1     False\n",
       "2     False\n",
       "3     False\n",
       "4     False\n",
       "5     False\n",
       "6     False\n",
       "7     False\n",
       "8     False\n",
       "9     False\n",
       "10    False\n",
       "11    False\n",
       "12    False\n",
       "13    False\n",
       "14    False\n",
       "15    False\n",
       "16    False\n",
       "17    False\n",
       "18    False\n",
       "19    False\n",
       "20    False\n",
       "21    False\n",
       "22    False\n",
       "23    False\n",
       "24    False\n",
       "25    False\n",
       "26    False\n",
       "27    False\n",
       "28    False\n",
       "29    False\n",
       "30    False\n",
       "31    False\n",
       "32    False\n",
       "33    False\n",
       "34    False\n",
       "35    False\n",
       "36    False\n",
       "37    False\n",
       "38    False\n",
       "39    False\n",
       "40    False\n",
       "41    False\n",
       "42    False\n",
       "43    False\n",
       "44    False\n",
       "45    False\n",
       "46    False\n",
       "47    False\n",
       "48    False\n",
       "49    False\n",
       "dtype: bool"
      ]
     },
     "execution_count": 23,
     "metadata": {},
     "output_type": "execute_result"
    }
   ],
   "source": [
    "df.duplicated()"
   ]
  },
  {
   "cell_type": "code",
   "execution_count": 24,
   "id": "7c4f2c66-e83b-4fda-86c0-eb870c02c748",
   "metadata": {},
   "outputs": [],
   "source": [
    "dropping = df.drop_duplicates()"
   ]
  },
  {
   "cell_type": "code",
   "execution_count": null,
   "id": "b6bc8f9e-5d6d-4518-8e02-3a3290b8f352",
   "metadata": {},
   "outputs": [],
   "source": []
  }
 ],
 "metadata": {
  "kernelspec": {
   "display_name": "Python [conda env:base] *",
   "language": "python",
   "name": "conda-base-py"
  },
  "language_info": {
   "codemirror_mode": {
    "name": "ipython",
    "version": 3
   },
   "file_extension": ".py",
   "mimetype": "text/x-python",
   "name": "python",
   "nbconvert_exporter": "python",
   "pygments_lexer": "ipython3",
   "version": "3.10.16"
  }
 },
 "nbformat": 4,
 "nbformat_minor": 5
}
